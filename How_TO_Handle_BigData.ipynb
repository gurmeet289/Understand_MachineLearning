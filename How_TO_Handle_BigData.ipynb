{
 "cells": [
  {
   "cell_type": "code",
   "execution_count": null,
   "metadata": {},
   "outputs": [],
   "source": []
  },
  {
   "cell_type": "markdown",
   "metadata": {},
   "source": [
    "# 'Data Scientists' approach for handling Big Data"
   ]
  },
  {
   "cell_type": "markdown",
   "metadata": {},
   "source": [
    "### Data professionals commonly use a few such tools. \n",
    "\n",
    "For mathematical computation, working with tools like Scipy, Mathplotlib, Numpy, Theano, RapidMiner comes into the picture. \n",
    "For machine learning, AI and deep learning, there are specific tools like TensorFlow, Torch, Scikit learn and OpenCV. \n",
    "Data visualization and analytics, on the other hand, use tools like Tableau, Knime and Orange. \n",
    "\n",
    "### Considering the recent trends in data science and analytics, a sub-field of this list emerged. \n",
    "\n",
    "The most popular tools in the AI and analytics industry were R, TensorFlow, Spark, Python, and Apache MXNet. While AWS EMR, AWS Glue, and Sagemaker found major usage in the cloud market.\n",
    "\n",
    "Other common tools used for machine learning were Sci-Kit Learn, for deep learning and AI was mostly Keras, TensorFlow, and PyTorch. On the other hand, for data manipulation, Pandas and Numpy stood out where numerical calculations were concerned. \n",
    "\n",
    "Selecting an appropriate tool for handling Big Data is a challenging process. Data scientists often face issues in the pre-processing and preparation phases. Especially, because they deal with an enormous amount of trash sensor data. To ensure that the tool or algorithm they have selected fulfills their criteria, they very often create a prototype on sample data. They then check the behaviour of a couple of tools. Another problem encountered by professionals was in regard to the complexity of interface possessed by these tools.   \n",
    "It is thus, advisable for data scientists to look into the business issue and select an appropriate tool accordingly. "
   ]
  },
  {
   "cell_type": "code",
   "execution_count": null,
   "metadata": {},
   "outputs": [],
   "source": []
  }
 ],
 "metadata": {
  "kernelspec": {
   "display_name": "Python 3",
   "language": "python",
   "name": "python3"
  },
  "language_info": {
   "codemirror_mode": {
    "name": "ipython",
    "version": 3
   },
   "file_extension": ".py",
   "mimetype": "text/x-python",
   "name": "python",
   "nbconvert_exporter": "python",
   "pygments_lexer": "ipython3",
   "version": "3.7.4"
  }
 },
 "nbformat": 4,
 "nbformat_minor": 4
}
